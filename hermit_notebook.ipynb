{
 "cells": [
  {
   "cell_type": "code",
   "execution_count": 1,
   "id": "1a4be713",
   "metadata": {},
   "outputs": [],
   "source": [
    "import matplotlib.pyplot as plt\n",
    "import pandas as pd\n",
    "import numpy as np\n",
    "import logging\n",
    "from multiprocessing import Pool\n",
    "from pprint import pprint\n",
    "from datetime import datetime"
   ]
  },
  {
   "cell_type": "code",
   "execution_count": 32,
   "id": "58848bd2",
   "metadata": {},
   "outputs": [
    {
     "data": {
      "text/plain": [
       "array(['/global/cfs/cdirs/jaws/jaws-install/jaws-supervisord-prod',\n",
       "       'None',\n",
       "       '/var/udiMount/global/cscratch1/sd/jaws_jtm/jaws-prod/cromwell-executions/jgi_dap_leo/8a854e1f-52c5-4a58-a701-5a7046ceca00/call-trimAlign_expt/shard-23/execution',\n",
       "       '/var/udiMount/global/cscratch1/sd/jaws_jtm/jaws-prod/cromwell-executions/jgi_dap_leo/8a854e1f-52c5-4a58-a701-5a7046ceca00/call-findPeaks/shard-36/execution',\n",
       "       '/var/udiMount/global/cscratch1/sd/jaws_jtm/jaws-prod/cromwell-executions/jgi_dap_leo/8a854e1f-52c5-4a58-a701-5a7046ceca00/call-dapStats/shard-36/execution',\n",
       "       '/var/udiMount/global/cscratch1/sd/jaws_jtm/jaws-prod/cromwell-executions/jgi_dap_leo/8a854e1f-52c5-4a58-a701-5a7046ceca00/call-assignGenes/shard-36/execution',\n",
       "       '/var/udiMount/global/cscratch1/sd/jaws_jtm/jaws-prod/cromwell-executions/jgi_dap_leo/8a854e1f-52c5-4a58-a701-5a7046ceca00/call-trimAlign_expt/shard-84/execution',\n",
       "       '/var/udiMount/global/cscratch1/sd/jaws_jtm/jaws-prod/cromwell-executions/jgi_dap_leo/8a854e1f-52c5-4a58-a701-5a7046ceca00/call-trimAlign_expt/shard-20/execution',\n",
       "       '/var/udiMount/global/cscratch1/sd/jaws_jtm/jaws-prod/cromwell-executions/jgi_dap_leo/8a854e1f-52c5-4a58-a701-5a7046ceca00/call-trimAlign_expt/shard-27/execution',\n",
       "       '/var/udiMount/global/cscratch1/sd/jaws_jtm/jaws-prod/cromwell-executions/jgi_dap_leo/8a854e1f-52c5-4a58-a701-5a7046ceca00/call-trimAlign_expt/shard-46/execution',\n",
       "       '/var/udiMount/global/cscratch1/sd/jaws_jtm/jaws-prod/cromwell-executions/jgi_dap_leo/8a854e1f-52c5-4a58-a701-5a7046ceca00/call-trimAlign_expt/shard-82/execution',\n",
       "       '/var/udiMount/global/cscratch1/sd/jaws_jtm/jaws-prod/cromwell-executions/jgi_dap_leo/8a854e1f-52c5-4a58-a701-5a7046ceca00/call-trimAlign_expt/shard-93/execution'],\n",
       "      dtype=object)"
      ]
     },
     "execution_count": 32,
     "metadata": {},
     "output_type": "execute_result"
    }
   ],
   "source": [
    "total_data = pd.read_csv(\"stats.csv\", parse_dates=[0], index_col=[0])\n",
    "total_data.current_dir.unique()"
   ]
  },
  {
   "cell_type": "code",
   "execution_count": 10,
   "id": "391f5e85",
   "metadata": {},
   "outputs": [
    {
     "data": {
      "text/plain": [
       "array(['slurm_script', 'jtm', 'sshd', 'bash', 'tee', 'trim_align.sh',\n",
       "       'perl', 'samtools', 'sh', 'bowtie2-align-s', 'find_peaks.sh',\n",
       "       'macs2', 'bamCoverage', 'mv', 'bamPEFragmentSi', 'grep', 'awk',\n",
       "       'bbduk.sh', 'java', 'shifter', 'reformat.sh'], dtype=object)"
      ]
     },
     "execution_count": 10,
     "metadata": {},
     "output_type": "execute_result"
    }
   ],
   "source": [
    "total_data.head()\n",
    "total_data.name.unique()"
   ]
  },
  {
   "cell_type": "code",
   "execution_count": 26,
   "id": "2550af7e",
   "metadata": {},
   "outputs": [],
   "source": [
    "def process_pid(data, time='10s', resample='10s'):\n",
    "    output_data = {}\n",
    "    # Basic runtime stats\n",
    "    output_data['start_time'] = str(data.index[0].strftime(\"%m-%d-%Y %H:%M:%S.%f\"))\n",
    "    output_data['end_time'] = str(data.index[-1].strftime(\"%m-%d-%Y %H:%M:%S.%f\"))\n",
    "    output_data['runtime_sec'] = float((data.index[-1] - data.index[0]).total_seconds())\n",
    "\n",
    "    # Copy over metadata once\n",
    "    for copy_col in ['name', 'cmdline']:\n",
    "        output_data[copy_col] = str(data[copy_col].iloc[0])\n",
    "        \n",
    "    \n",
    "    # Get a rolling difference over a window\n",
    "    # We can tune this before saving data to a DB\n",
    "    cpu_usage = (data['cpu_time_system'] + data['cpu_time_user']).rolling(time).apply(lambda x: x.iloc[-1] - x.iloc[0])\n",
    "    cpu_usage = cpu_usage.resample(resample).mean()\n",
    "    iowait_usage = data['iowait'].rolling(time).apply(lambda x: x.iloc[-1] - x.iloc[0])\n",
    "    iowait_usage = iowait_usage.resample(resample).mean()\n",
    "    mem_usage = (data['mem_rss'] + data['mem_vms']).resample(resample).max()\n",
    "    \n",
    "    \n",
    "    output_data['timeseries'] = list(cpu_usage.index.to_series().dt.strftime(\"%m-%d-%Y %H:%M:%S.%f\"))\n",
    "    output_data['cpu_usage'] = list(cpu_usage)\n",
    "    output_data['iowait_usage'] = list(iowait_usage)\n",
    "    output_data['mem_usage'] = list(mem_usage)\n",
    "\n",
    "    # Reads and writes also need to get differences\n",
    "    # Will probabaly also need to get units correct\n",
    "    for read_write in ['read', 'write']:\n",
    "        for count_chars in ['count', 'chars']:\n",
    "            output_data[f'{read_write}_{count_chars}_diff'] = list(data[f'{read_write}_{count_chars}'].rolling(\n",
    "                time).apply(lambda x: x.iloc[-1] - x.iloc[0]))\n",
    "\n",
    "    # Other columns can be copied over\n",
    "    for copy_col in ['num_threads', 'num_fds']:\n",
    "        output_data[copy_col] = list(data[copy_col])\n",
    "\n",
    "    try:\n",
    "        return output_data\n",
    "    except Exception as e:\n",
    "        logging.debug(e)\n"
   ]
  },
  {
   "cell_type": "code",
   "execution_count": 27,
   "id": "5475e709",
   "metadata": {},
   "outputs": [],
   "source": [
    "total = total_data.groupby('pid').apply(process_pid, '1s', '1s')"
   ]
  },
  {
   "cell_type": "code",
   "execution_count": 21,
   "id": "8143e81b",
   "metadata": {},
   "outputs": [
    {
     "data": {
      "text/plain": [
       "pid\n",
       "4132     {'start_time': '02-10-2022 12:43:13.841133', '...\n",
       "4141     {'start_time': '02-10-2022 12:43:13.843352', '...\n",
       "4187     {'start_time': '02-10-2022 12:42:07.235091', '...\n",
       "4252     {'start_time': '02-10-2022 12:42:07.237107', '...\n",
       "4569     {'start_time': '02-10-2022 12:43:48.010604', '...\n",
       "                               ...                        \n",
       "62022    {'start_time': '02-10-2022 12:43:44.452522', '...\n",
       "62029    {'start_time': '02-10-2022 12:43:44.465531', '...\n",
       "62034    {'start_time': '02-10-2022 12:43:44.478629', '...\n",
       "62140    {'start_time': '02-10-2022 12:42:03.792769', '...\n",
       "64161    {'start_time': '02-10-2022 12:42:04.800146', '...\n",
       "Length: 206, dtype: object"
      ]
     },
     "execution_count": 21,
     "metadata": {},
     "output_type": "execute_result"
    }
   ],
   "source": [
    "total"
   ]
  },
  {
   "cell_type": "code",
   "execution_count": 29,
   "id": "1c652e14",
   "metadata": {},
   "outputs": [
    {
     "data": {
      "image/png": "[encoded data removed]",
      "text/plain": [
       "<Figure size 432x288 with 1 Axes>"
      ]
     },
     "metadata": {
      "needs_background": "light"
     },
     "output_type": "display_data"
    }
   ],
   "source": [
    "\n",
    "for x in total:\n",
    "    timeseries = x['timeseries']\n",
    "    cpu_usage = np.array(x['cpu_usage'])/10\n",
    "    time = np.array([datetime.strptime(t, \"%m-%d-%Y %H:%M:%S.%f\") for t in timeseries])\n",
    "    plt.plot(time, cpu_usage)\n",
    "plt.xticks(rotation = 45)\n",
    "plt.ylim(0, 0.05)\n",
    "plt.show()"
   ]
  },
  {
   "cell_type": "code",
   "execution_count": null,
   "id": "01daafb8",
   "metadata": {},
   "outputs": [],
   "source": []
  },
  {
   "cell_type": "code",
   "execution_count": null,
   "id": "ae433ce6",
   "metadata": {},
   "outputs": [],
   "source": [
    "timeseries = total[29544]['timeseries']\n",
    "mem_usage = total[29544]['mem_usage']\n",
    "time = np.array([datetime.strptime(t, \"%m-%d-%Y %H:%M:%S.%f\") for t in timeseries])\n",
    "\n",
    "print(len(time))\n",
    "\n",
    "plt.plot(time, mem_usage)\n",
    "plt.xticks(rotation = 45)\n",
    "plt.show()"
   ]
  },
  {
   "cell_type": "code",
   "execution_count": null,
   "id": "579842e0",
   "metadata": {},
   "outputs": [],
   "source": [
    "timeseries = total[29544]['timeseries']\n",
    "cpu_usage = np.array(total[29544]['iowait_usage'])\n",
    "time = np.array([datetime.strptime(t, \"%m-%d-%Y %H:%M:%S.%f\") for t in timeseries])\n",
    "\n",
    "print(len(time))\n",
    "\n",
    "plt.plot(time, cpu_usage)\n",
    "plt.xticks(rotation = 45)\n",
    "\n",
    "plt.show()"
   ]
  },
  {
   "cell_type": "code",
   "execution_count": null,
   "id": "c60d7653",
   "metadata": {},
   "outputs": [],
   "source": [
    "timeseries = total[29544]['timeseries']\n",
    "cpu_usage = total[29544]['mem_usage']\n",
    "time = np.array([datetime.strptime(t, \"%m-%d-%Y %H:%M:%S.%f\") for t in timeseries])\n",
    "\n",
    "print(len(time))\n",
    "\n",
    "plt.plot(time, cpu_usage)\n",
    "plt.xticks(rotation = 45)\n",
    "plt.show()"
   ]
  },
  {
   "cell_type": "code",
   "execution_count": null,
   "id": "03493d4f",
   "metadata": {},
   "outputs": [],
   "source": [
    "total_data.cpu_time_user.plot()"
   ]
  },
  {
   "cell_type": "code",
   "execution_count": null,
   "id": "bc13bf67",
   "metadata": {},
   "outputs": [],
   "source": []
  }
 ],
 "metadata": {
  "interpreter": {
   "hash": "70c92d5e37c70e34502976fb7b2be85661c83df3fd98b73790be5887362a3e25"
  },
  "kernelspec": {
   "display_name": "Python 3",
   "language": "python",
   "name": "python3"
  },
  "language_info": {
   "codemirror_mode": {
    "name": "ipython",
    "version": 3
   },
   "file_extension": ".py",
   "mimetype": "text/x-python",
   "name": "python",
   "nbconvert_exporter": "python",
   "pygments_lexer": "ipython3",
   "version": "3.9.6"
  }
 },
 "nbformat": 4,
 "nbformat_minor": 5
}
