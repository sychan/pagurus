{
 "cells": [
  {
   "cell_type": "code",
   "execution_count": null,
   "metadata": {},
   "outputs": [],
   "source": [
    "import matplotlib.pyplot as plt\n",
    "import pandas as pd\n",
    "import numpy as np"
   ]
  },
  {
   "cell_type": "code",
   "execution_count": null,
   "id": "58848bd2",
   "metadata": {},
   "outputs": [],
   "source": [
    "df = pd.read_csv(\"/home/tylern/data/stats.csv\", parse_dates=[0], index_col='datetime')\n",
    "df.head()"
   ]
  },
  {
   "cell_type": "code",
   "execution_count": null,
   "id": "2550af7e",
   "metadata": {},
   "outputs": [],
   "source": [
    "unique_pids = df.pid.unique()\n",
    "\n",
    "#create a data frame dictionary to store your data frames\n",
    "df_dict = {p : pd.DataFrame for p in unique_pids}\n",
    "\n",
    "for key in df_dict.keys():\n",
    "    df_dict[key] = df[:][df.pid == key]\n",
    "\n",
    "# print(unique_pids)"
   ]
  },
  {
   "cell_type": "code",
   "execution_count": null,
   "id": "c62bf09a",
   "metadata": {},
   "outputs": [],
   "source": [
    "for k,v in df_dict.items():\n",
    "    cpu_percent = (v.cpu_t_user + v.cpu_t_system).rolling(f'10s').apply(lambda x: x.iloc[-1] - x.iloc[0])\n",
    "    cpu_percent.plot()\n",
    "\n",
    "plt.show()"
   ]
  },
  {
   "cell_type": "code",
   "execution_count": null,
   "id": "a7425a7c",
   "metadata": {},
   "outputs": [],
   "source": []
  }
 ],
 "metadata": {
  "interpreter": {
   "hash": "70c92d5e37c70e34502976fb7b2be85661c83df3fd98b73790be5887362a3e25"
  },
  "kernelspec": {
   "display_name": "Python 3.9.7 64-bit ('science': conda)",
   "language": "python",
   "name": "python3"
  },
  "language_info": {
   "codemirror_mode": {
    "name": "ipython",
    "version": 3
   },
   "file_extension": ".py",
   "mimetype": "text/x-python",
   "name": "python",
   "nbconvert_exporter": "python",
   "pygments_lexer": "ipython3",
   "version": "3.9.7"
  }
 },
 "nbformat": 4,
 "nbformat_minor": 5
}
